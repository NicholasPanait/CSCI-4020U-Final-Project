{
 "cells": [
  {
   "cell_type": "markdown",
   "id": "f2dd921e-534b-4e5c-9c36-492f72910813",
   "metadata": {
    "editable": false
   },
   "source": [
    "# Assignment 3"
   ]
  },
  {
   "cell_type": "code",
   "execution_count": 1,
   "id": "5717a6e1-13b5-464b-9244-fdec8411cd5f",
   "metadata": {
    "editable": false,
    "execution": {
     "iopub.execute_input": "2024-04-01T05:48:22.567524Z",
     "iopub.status.busy": "2024-04-01T05:48:22.565336Z",
     "iopub.status.idle": "2024-04-01T05:48:25.631309Z",
     "shell.execute_reply": "2024-04-01T05:48:25.630393Z"
    },
    "tags": []
   },
   "outputs": [],
   "source": [
    "// [THIS IS READ-ONLY]\n",
    "@file:DependsOn(\"/antlr-4.11.1-complete.jar\")\n",
    "@file:DependsOn(\"./target\")"
   ]
  },
  {
   "cell_type": "code",
   "execution_count": 2,
   "id": "3b38dfda-74cd-4464-a6e0-a42096ff8aab",
   "metadata": {
    "editable": false,
    "execution": {
     "iopub.execute_input": "2024-04-01T05:48:25.659780Z",
     "iopub.status.busy": "2024-04-01T05:48:25.659279Z",
     "iopub.status.idle": "2024-04-01T05:48:25.768777Z",
     "shell.execute_reply": "2024-04-01T05:48:25.768201Z"
    },
    "tags": []
   },
   "outputs": [],
   "source": [
    "// [THIS IS READ-ONLY]\n",
    "import org.antlr.v4.runtime.*\n",
    "import backend.*"
   ]
  },
  {
   "cell_type": "code",
   "execution_count": 3,
   "id": "87e5764c-c1cf-43f8-86b8-71f1e6bfae44",
   "metadata": {
    "editable": false,
    "execution": {
     "iopub.execute_input": "2024-04-01T05:48:25.772694Z",
     "iopub.status.busy": "2024-04-01T05:48:25.771629Z",
     "iopub.status.idle": "2024-04-01T05:48:26.586388Z",
     "shell.execute_reply": "2024-04-01T05:48:26.585966Z"
    },
    "tags": []
   },
   "outputs": [],
   "source": [
    "// [THIS IS READ-ONLY]\n",
    "fun execute(source:String) {\n",
    "    val errorlistener = object: BaseErrorListener() {\n",
    "        override fun syntaxError(recognizer: Recognizer<*,*>,\n",
    "               offendingSymbol: Any?,\n",
    "               line: Int,\n",
    "               pos: Int,\n",
    "               msg: String,\n",
    "               e: RecognitionException?) {\n",
    "            throw Exception(\"${e} at line:${line}, char:${pos}\")\n",
    "        }\n",
    "    }\n",
    "    val input = CharStreams.fromString(source)\n",
    "    val lexer = PLLexer(input).apply {\n",
    "        removeErrorListeners()\n",
    "        addErrorListener(errorlistener)\n",
    "    }\n",
    "    val tokens = CommonTokenStream(lexer)\n",
    "    val parser = PLParser(tokens).apply {\n",
    "        removeErrorListeners()\n",
    "        addErrorListener(errorlistener)\n",
    "    }    \n",
    "    \n",
    "    try {\n",
    "        val result = parser.program()\n",
    "        result.expr.eval(Runtime())\n",
    "    } catch(e:Exception) {\n",
    "        println(\"Error: ${e}\")\n",
    "    }\n",
    "}"
   ]
  },
  {
   "cell_type": "markdown",
   "id": "d02565aa-4e9f-4261-a185-d140b68c54f1",
   "metadata": {
    "editable": false
   },
   "source": [
    "## String arithmetics"
   ]
  },
  {
   "cell_type": "code",
   "execution_count": 4,
   "id": "b001c14e-2f45-48fc-82be-a98168bf2aa9",
   "metadata": {
    "editable": false,
    "execution": {
     "iopub.execute_input": "2024-04-01T05:48:26.589976Z",
     "iopub.status.busy": "2024-04-01T05:48:26.589157Z",
     "iopub.status.idle": "2024-04-01T05:48:26.684869Z",
     "shell.execute_reply": "2024-04-01T05:48:26.684410Z"
    },
    "tags": []
   },
   "outputs": [],
   "source": [
    "// [THIS IS READ-ONLY]\n",
    "val program1 = \"\"\"\n",
    "x = \"Hello\";\n",
    "y = \"World\";\n",
    "\n",
    "print(x ++ \" \" ++ y);\n",
    "\"\"\""
   ]
  },
  {
   "cell_type": "code",
   "execution_count": 5,
   "id": "5264fa53-9ba7-4d8d-a171-d834fd6cd94a",
   "metadata": {
    "execution": {
     "iopub.execute_input": "2024-04-01T05:48:26.688476Z",
     "iopub.status.busy": "2024-04-01T05:48:26.688022Z",
     "iopub.status.idle": "2024-04-01T05:48:26.772080Z",
     "shell.execute_reply": "2024-04-01T05:48:26.771635Z"
    }
   },
   "outputs": [],
   "source": [
    "val programT = \"\"\"\n",
    "x = \"Hello\";\n",
    "\n",
    "print(x);\n",
    "\"\"\""
   ]
  },
  {
   "cell_type": "code",
   "execution_count": 6,
   "id": "b3c2857e",
   "metadata": {
    "execution": {
     "iopub.execute_input": "2024-04-01T05:48:26.775509Z",
     "iopub.status.busy": "2024-04-01T05:48:26.774843Z",
     "iopub.status.idle": "2024-04-01T05:48:27.008938Z",
     "shell.execute_reply": "2024-04-01T05:48:27.008235Z"
    },
    "tags": []
   },
   "outputs": [
    {
     "name": "stdout",
     "output_type": "stream",
     "text": [
      "> backend.VariableExpr@1d0011da\n"
     ]
    }
   ],
   "source": [
    "// [YOUR WORK HERE]\n",
    "// @workUnit\n",
    "// execute the program\n",
    "\n",
    "execute(programT)"
   ]
  },
  {
   "cell_type": "markdown",
   "id": "b4ad5b2d-b4b2-42e8-bbe1-0ecefb10102d",
   "metadata": {
    "editable": false
   },
   "source": [
    "## Mixed arithmetics"
   ]
  },
  {
   "cell_type": "code",
   "execution_count": 7,
   "id": "579a59aa-6074-4715-a248-bd553e9bddbf",
   "metadata": {
    "editable": false,
    "execution": {
     "iopub.execute_input": "2024-04-01T05:48:27.011945Z",
     "iopub.status.busy": "2024-04-01T05:48:27.011301Z",
     "iopub.status.idle": "2024-04-01T05:48:27.091187Z",
     "shell.execute_reply": "2024-04-01T05:48:27.090630Z"
    },
    "tags": []
   },
   "outputs": [],
   "source": [
    "// [THIS IS READ-ONLY]\n",
    "val program2 = \"\"\"\n",
    "x = \"woof \";\n",
    "y = \"Dog goes \" ++ (x * 2);\n",
    "\n",
    "print(y);\n",
    "\"\"\""
   ]
  },
  {
   "cell_type": "code",
   "execution_count": 8,
   "id": "629a437d",
   "metadata": {
    "execution": {
     "iopub.execute_input": "2024-04-01T05:48:27.093858Z",
     "iopub.status.busy": "2024-04-01T05:48:27.093232Z",
     "iopub.status.idle": "2024-04-01T05:48:27.194745Z",
     "shell.execute_reply": "2024-04-01T05:48:27.193983Z"
    },
    "tags": []
   },
   "outputs": [
    {
     "name": "stdout",
     "output_type": "stream",
     "text": [
      "Error: java.lang.Exception: LexerNoViableAltException('*') at line:3, char:22\n"
     ]
    }
   ],
   "source": [
    "// [YOUR WORK HERE]\n",
    "// @workUnit\n",
    "\n",
    "execute(program2)"
   ]
  },
  {
   "cell_type": "markdown",
   "id": "172ba344-0ce6-49c2-a5ac-d14eefdaffb4",
   "metadata": {
    "editable": false
   },
   "source": [
    "## Loops"
   ]
  },
  {
   "cell_type": "code",
   "execution_count": 9,
   "id": "eab62b5c-103d-4b9e-9244-61faa2571bd7",
   "metadata": {
    "editable": false,
    "execution": {
     "iopub.execute_input": "2024-04-01T05:48:27.197738Z",
     "iopub.status.busy": "2024-04-01T05:48:27.197120Z",
     "iopub.status.idle": "2024-04-01T05:48:27.280029Z",
     "shell.execute_reply": "2024-04-01T05:48:27.279501Z"
    },
    "tags": []
   },
   "outputs": [],
   "source": [
    "// [THIS IS READ-ONLY]\n",
    "val program3 = \"\"\"\n",
    "sum = 0\n",
    "for(i in 10..20) {\n",
    "  sum = sum + i;\n",
    "}\n",
    "\n",
    "print(sum)\n",
    "\"\"\""
   ]
  },
  {
   "cell_type": "code",
   "execution_count": 10,
   "id": "9f1ac87b",
   "metadata": {
    "execution": {
     "iopub.execute_input": "2024-04-01T05:48:27.282715Z",
     "iopub.status.busy": "2024-04-01T05:48:27.282156Z",
     "iopub.status.idle": "2024-04-01T05:48:27.379015Z",
     "shell.execute_reply": "2024-04-01T05:48:27.378365Z"
    },
    "tags": []
   },
   "outputs": [
    {
     "name": "stdout",
     "output_type": "stream",
     "text": [
      "Error: java.lang.Exception: null at line:3, char:0\n"
     ]
    }
   ],
   "source": [
    "// [YOUR WORK HERE]\n",
    "// @workUnit\n",
    "\n",
    "execute(program3)"
   ]
  },
  {
   "cell_type": "markdown",
   "id": "46585be1-3814-4ad5-83e8-6ff46f99b90f",
   "metadata": {
    "editable": false,
    "tags": []
   },
   "source": [
    "## Function"
   ]
  },
  {
   "cell_type": "code",
   "execution_count": 11,
   "id": "91e9c33b-9393-4de7-8e98-aa82d568df53",
   "metadata": {
    "editable": false,
    "execution": {
     "iopub.execute_input": "2024-04-01T05:48:27.381595Z",
     "iopub.status.busy": "2024-04-01T05:48:27.381053Z",
     "iopub.status.idle": "2024-04-01T05:48:27.461901Z",
     "shell.execute_reply": "2024-04-01T05:48:27.461493Z"
    },
    "tags": []
   },
   "outputs": [],
   "source": [
    "// [THIS IS READ-ONLY]\n",
    "val program4 = \"\"\"\n",
    "function greeting(name, message) {\n",
    "  x = \"Hi,\";\n",
    "  x = x ++ \" my name is \" ++ name ++ \".\";\n",
    "  print(x);\n",
    "  print(message);\n",
    "}\n",
    "\n",
    "greeting(\"Albert\", \"How are you?\");\n",
    "\"\"\""
   ]
  },
  {
   "cell_type": "code",
   "execution_count": 12,
   "id": "475f7864",
   "metadata": {
    "execution": {
     "iopub.execute_input": "2024-04-01T05:48:27.464549Z",
     "iopub.status.busy": "2024-04-01T05:48:27.463819Z",
     "iopub.status.idle": "2024-04-01T05:48:27.518056Z",
     "shell.execute_reply": "2024-04-01T05:48:27.517538Z"
    },
    "tags": []
   },
   "outputs": [
    {
     "name": "stdout",
     "output_type": "stream",
     "text": [
      "Error: java.lang.Exception: null at line:2, char:9\n"
     ]
    }
   ],
   "source": [
    "// [YOUR WORK HERE]\n",
    "// @workUnit\n",
    "\n",
    "execute(program4)"
   ]
  },
  {
   "cell_type": "markdown",
   "id": "aeb42862-8d8a-4a40-ae06-a5641eb8d2bf",
   "metadata": {
    "editable": false,
    "tags": []
   },
   "source": [
    "## Recursion"
   ]
  },
  {
   "cell_type": "code",
   "execution_count": 13,
   "id": "c39324da-96e3-4e61-a489-f23a7fc3f508",
   "metadata": {
    "editable": false,
    "execution": {
     "iopub.execute_input": "2024-04-01T05:48:27.520508Z",
     "iopub.status.busy": "2024-04-01T05:48:27.520003Z",
     "iopub.status.idle": "2024-04-01T05:48:27.599682Z",
     "shell.execute_reply": "2024-04-01T05:48:27.599209Z"
    },
    "tags": []
   },
   "outputs": [],
   "source": [
    "// [THIS IS READ-ONLY]\n",
    "val program5 = \"\"\"\n",
    "function factorial(n) {\n",
    "  if(n < 2) {\n",
    "    1;\n",
    "  } else {\n",
    "    n * factorial(n-1);\n",
    "  }\n",
    "}\n",
    "\n",
    "print(factorial(10));\n",
    "\"\"\""
   ]
  },
  {
   "cell_type": "code",
   "execution_count": 14,
   "id": "755cf3df",
   "metadata": {
    "execution": {
     "iopub.execute_input": "2024-04-01T05:48:27.602004Z",
     "iopub.status.busy": "2024-04-01T05:48:27.601545Z",
     "iopub.status.idle": "2024-04-01T05:48:27.698557Z",
     "shell.execute_reply": "2024-04-01T05:48:27.698002Z"
    },
    "tags": []
   },
   "outputs": [
    {
     "name": "stdout",
     "output_type": "stream",
     "text": [
      "Error: java.lang.Exception: null at line:2, char:9\n"
     ]
    }
   ],
   "source": [
    "// [YOUR WORK HERE]\n",
    "// @workUnit\n",
    "\n",
    "execute(program5)"
   ]
  }
 ],
 "metadata": {
  "kernelspec": {
   "display_name": "Kotlin",
   "language": "kotlin",
   "name": "kotlin"
  },
  "language_info": {
   "codemirror_mode": "text/x-kotlin",
   "file_extension": ".kt",
   "mimetype": "text/x-kotlin",
   "name": "kotlin",
   "nbconvert_exporter": "",
   "pygments_lexer": "kotlin",
   "version": "1.8.0-dev-707"
  }
 },
 "nbformat": 4,
 "nbformat_minor": 5
}
